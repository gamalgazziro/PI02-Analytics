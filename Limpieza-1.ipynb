{
 "cells": [
  {
   "attachments": {},
   "cell_type": "markdown",
   "metadata": {},
   "source": [
    "# Proceso de EDA y ETL"
   ]
  },
  {
   "cell_type": "code",
   "execution_count": 1,
   "metadata": {},
   "outputs": [],
   "source": [
    "# Importamos las librerias mas uriles para una limpieza\n",
    "import yfinance as yf\n",
    "import pandas as pd\n",
    "import matplotlib.pyplot as plt\n",
    "import numpy as np"
   ]
  },
  {
   "attachments": {},
   "cell_type": "markdown",
   "metadata": {},
   "source": [
    "Descargamos el DataFrame que contine todos los datos del S&P500 desde el perimer día del año 1992 hasta el ultimo día del año 2022, un total de 30 años"
   ]
  },
  {
   "cell_type": "code",
   "execution_count": 11,
   "metadata": {},
   "outputs": [
    {
     "name": "stdout",
     "output_type": "stream",
     "text": [
      "[*********************100%***********************]  1 of 1 completed\n"
     ]
    }
   ],
   "source": [
    "data = yf.download(tickers='^GSPC', start= '1992-01-01', end= '2022-12-31', interval= '1d')"
   ]
  },
  {
   "cell_type": "code",
   "execution_count": 12,
   "metadata": {},
   "outputs": [
    {
     "name": "stdout",
     "output_type": "stream",
     "text": [
      "<class 'pandas.core.frame.DataFrame'>\n",
      "DatetimeIndex: 7809 entries, 1992-01-02 to 2022-12-30\n",
      "Data columns (total 6 columns):\n",
      " #   Column     Non-Null Count  Dtype  \n",
      "---  ------     --------------  -----  \n",
      " 0   Open       7809 non-null   float64\n",
      " 1   High       7809 non-null   float64\n",
      " 2   Low        7809 non-null   float64\n",
      " 3   Close      7809 non-null   float64\n",
      " 4   Adj Close  7809 non-null   float64\n",
      " 5   Volume     7809 non-null   int64  \n",
      "dtypes: float64(5), int64(1)\n",
      "memory usage: 427.1 KB\n"
     ]
    },
    {
     "data": {
      "text/plain": [
       "Open         0\n",
       "High         0\n",
       "Low          0\n",
       "Close        0\n",
       "Adj Close    0\n",
       "Volume       0\n",
       "dtype: int64"
      ]
     },
     "execution_count": 12,
     "metadata": {},
     "output_type": "execute_result"
    }
   ],
   "source": [
    "data.info() # Revisamos los tipos de datos que hay\n",
    "data.isna().sum()# Verificamos que no hay nulos\n",
    "# Como podemos observar en los datos no hay números nulos "
   ]
  },
  {
   "cell_type": "code",
   "execution_count": 13,
   "metadata": {},
   "outputs": [
    {
     "data": {
      "text/html": [
       "<div>\n",
       "<style scoped>\n",
       "    .dataframe tbody tr th:only-of-type {\n",
       "        vertical-align: middle;\n",
       "    }\n",
       "\n",
       "    .dataframe tbody tr th {\n",
       "        vertical-align: top;\n",
       "    }\n",
       "\n",
       "    .dataframe thead th {\n",
       "        text-align: right;\n",
       "    }\n",
       "</style>\n",
       "<table border=\"1\" class=\"dataframe\">\n",
       "  <thead>\n",
       "    <tr style=\"text-align: right;\">\n",
       "      <th></th>\n",
       "      <th>Open</th>\n",
       "      <th>High</th>\n",
       "      <th>Low</th>\n",
       "      <th>Close</th>\n",
       "      <th>Adj Close</th>\n",
       "      <th>Volume</th>\n",
       "    </tr>\n",
       "    <tr>\n",
       "      <th>Date</th>\n",
       "      <th></th>\n",
       "      <th></th>\n",
       "      <th></th>\n",
       "      <th></th>\n",
       "      <th></th>\n",
       "      <th></th>\n",
       "    </tr>\n",
       "  </thead>\n",
       "  <tbody>\n",
       "    <tr>\n",
       "      <th>1992-01-02</th>\n",
       "      <td>417.029999</td>\n",
       "      <td>417.269989</td>\n",
       "      <td>411.040009</td>\n",
       "      <td>417.260010</td>\n",
       "      <td>417.260010</td>\n",
       "      <td>207570000</td>\n",
       "    </tr>\n",
       "    <tr>\n",
       "      <th>1992-01-03</th>\n",
       "      <td>417.269989</td>\n",
       "      <td>419.790009</td>\n",
       "      <td>416.160004</td>\n",
       "      <td>419.339996</td>\n",
       "      <td>419.339996</td>\n",
       "      <td>224270000</td>\n",
       "    </tr>\n",
       "    <tr>\n",
       "      <th>1992-01-06</th>\n",
       "      <td>419.309998</td>\n",
       "      <td>419.440002</td>\n",
       "      <td>416.920013</td>\n",
       "      <td>417.959991</td>\n",
       "      <td>417.959991</td>\n",
       "      <td>251210000</td>\n",
       "    </tr>\n",
       "    <tr>\n",
       "      <th>1992-01-07</th>\n",
       "      <td>417.959991</td>\n",
       "      <td>417.959991</td>\n",
       "      <td>415.200012</td>\n",
       "      <td>417.399994</td>\n",
       "      <td>417.399994</td>\n",
       "      <td>252780000</td>\n",
       "    </tr>\n",
       "    <tr>\n",
       "      <th>1992-01-08</th>\n",
       "      <td>417.359985</td>\n",
       "      <td>420.230011</td>\n",
       "      <td>415.019989</td>\n",
       "      <td>418.100006</td>\n",
       "      <td>418.100006</td>\n",
       "      <td>290750000</td>\n",
       "    </tr>\n",
       "  </tbody>\n",
       "</table>\n",
       "</div>"
      ],
      "text/plain": [
       "                  Open        High         Low       Close   Adj Close  \\\n",
       "Date                                                                     \n",
       "1992-01-02  417.029999  417.269989  411.040009  417.260010  417.260010   \n",
       "1992-01-03  417.269989  419.790009  416.160004  419.339996  419.339996   \n",
       "1992-01-06  419.309998  419.440002  416.920013  417.959991  417.959991   \n",
       "1992-01-07  417.959991  417.959991  415.200012  417.399994  417.399994   \n",
       "1992-01-08  417.359985  420.230011  415.019989  418.100006  418.100006   \n",
       "\n",
       "               Volume  \n",
       "Date                   \n",
       "1992-01-02  207570000  \n",
       "1992-01-03  224270000  \n",
       "1992-01-06  251210000  \n",
       "1992-01-07  252780000  \n",
       "1992-01-08  290750000  "
      ]
     },
     "execution_count": 13,
     "metadata": {},
     "output_type": "execute_result"
    }
   ],
   "source": [
    "data.head() # Procedemos a ordenar los datos."
   ]
  },
  {
   "cell_type": "code",
   "execution_count": 14,
   "metadata": {},
   "outputs": [],
   "source": [
    "data= data.round(2)\n",
    "# Dado que los datos de las columnas Open, High, Low, Close y Adj Close estan basados en dolares Estadounidences procederemos a \n",
    "# reducir su numero de decimales a 2"
   ]
  },
  {
   "cell_type": "code",
   "execution_count": 15,
   "metadata": {},
   "outputs": [
    {
     "data": {
      "text/html": [
       "<div>\n",
       "<style scoped>\n",
       "    .dataframe tbody tr th:only-of-type {\n",
       "        vertical-align: middle;\n",
       "    }\n",
       "\n",
       "    .dataframe tbody tr th {\n",
       "        vertical-align: top;\n",
       "    }\n",
       "\n",
       "    .dataframe thead th {\n",
       "        text-align: right;\n",
       "    }\n",
       "</style>\n",
       "<table border=\"1\" class=\"dataframe\">\n",
       "  <thead>\n",
       "    <tr style=\"text-align: right;\">\n",
       "      <th></th>\n",
       "      <th>Open</th>\n",
       "      <th>High</th>\n",
       "      <th>Low</th>\n",
       "      <th>Close</th>\n",
       "      <th>Adj Close</th>\n",
       "      <th>Volume</th>\n",
       "    </tr>\n",
       "    <tr>\n",
       "      <th>Date</th>\n",
       "      <th></th>\n",
       "      <th></th>\n",
       "      <th></th>\n",
       "      <th></th>\n",
       "      <th></th>\n",
       "      <th></th>\n",
       "    </tr>\n",
       "  </thead>\n",
       "  <tbody>\n",
       "    <tr>\n",
       "      <th>1992-01-02</th>\n",
       "      <td>417.03</td>\n",
       "      <td>417.27</td>\n",
       "      <td>411.04</td>\n",
       "      <td>417.26</td>\n",
       "      <td>417.26</td>\n",
       "      <td>207570000</td>\n",
       "    </tr>\n",
       "    <tr>\n",
       "      <th>1992-01-03</th>\n",
       "      <td>417.27</td>\n",
       "      <td>419.79</td>\n",
       "      <td>416.16</td>\n",
       "      <td>419.34</td>\n",
       "      <td>419.34</td>\n",
       "      <td>224270000</td>\n",
       "    </tr>\n",
       "    <tr>\n",
       "      <th>1992-01-06</th>\n",
       "      <td>419.31</td>\n",
       "      <td>419.44</td>\n",
       "      <td>416.92</td>\n",
       "      <td>417.96</td>\n",
       "      <td>417.96</td>\n",
       "      <td>251210000</td>\n",
       "    </tr>\n",
       "    <tr>\n",
       "      <th>1992-01-07</th>\n",
       "      <td>417.96</td>\n",
       "      <td>417.96</td>\n",
       "      <td>415.20</td>\n",
       "      <td>417.40</td>\n",
       "      <td>417.40</td>\n",
       "      <td>252780000</td>\n",
       "    </tr>\n",
       "    <tr>\n",
       "      <th>1992-01-08</th>\n",
       "      <td>417.36</td>\n",
       "      <td>420.23</td>\n",
       "      <td>415.02</td>\n",
       "      <td>418.10</td>\n",
       "      <td>418.10</td>\n",
       "      <td>290750000</td>\n",
       "    </tr>\n",
       "  </tbody>\n",
       "</table>\n",
       "</div>"
      ],
      "text/plain": [
       "              Open    High     Low   Close  Adj Close     Volume\n",
       "Date                                                            \n",
       "1992-01-02  417.03  417.27  411.04  417.26     417.26  207570000\n",
       "1992-01-03  417.27  419.79  416.16  419.34     419.34  224270000\n",
       "1992-01-06  419.31  419.44  416.92  417.96     417.96  251210000\n",
       "1992-01-07  417.96  417.96  415.20  417.40     417.40  252780000\n",
       "1992-01-08  417.36  420.23  415.02  418.10     418.10  290750000"
      ]
     },
     "execution_count": 15,
     "metadata": {},
     "output_type": "execute_result"
    }
   ],
   "source": [
    "data.head()"
   ]
  },
  {
   "cell_type": "code",
   "execution_count": 16,
   "metadata": {},
   "outputs": [],
   "source": [
    "# Por ultimo prodecemos a guardar el nuevo dataframe en un csv\n",
    "data.to_csv(f'S&P500.csv')"
   ]
  },
  {
   "attachments": {},
   "cell_type": "markdown",
   "metadata": {},
   "source": [
    "###  Obtenemos los valores del patron oro y del yen japonés"
   ]
  },
  {
   "cell_type": "code",
   "execution_count": 11,
   "metadata": {},
   "outputs": [
    {
     "name": "stdout",
     "output_type": "stream",
     "text": [
      "[*********************100%***********************]  1 of 1 completed\n"
     ]
    }
   ],
   "source": [
    "# Valores del patron oro\n",
    "oro = yf.download(tickers=\"GC=F\", start= '2010-01-01', end= '2022-12-31', interval= '1d')"
   ]
  },
  {
   "cell_type": "code",
   "execution_count": 12,
   "metadata": {},
   "outputs": [
    {
     "name": "stdout",
     "output_type": "stream",
     "text": [
      "[*********************100%***********************]  1 of 1 completed\n"
     ]
    }
   ],
   "source": [
    "# Valores del indice Nikkei255\n",
    "nikkei = yf.download(tickers=\"^N225\", start= '2010-01-01', end= '2022-12-31', interval= '1d')"
   ]
  },
  {
   "cell_type": "code",
   "execution_count": 4,
   "metadata": {},
   "outputs": [
    {
     "name": "stdout",
     "output_type": "stream",
     "text": [
      "<class 'pandas.core.frame.DataFrame'>\n",
      "DatetimeIndex: 3270 entries, 2010-01-04 to 2022-12-30\n",
      "Data columns (total 6 columns):\n",
      " #   Column     Non-Null Count  Dtype  \n",
      "---  ------     --------------  -----  \n",
      " 0   Open       3270 non-null   float64\n",
      " 1   High       3270 non-null   float64\n",
      " 2   Low        3270 non-null   float64\n",
      " 3   Close      3270 non-null   float64\n",
      " 4   Adj Close  3270 non-null   float64\n",
      " 5   Volume     3270 non-null   int64  \n",
      "dtypes: float64(5), int64(1)\n",
      "memory usage: 178.8 KB\n"
     ]
    },
    {
     "data": {
      "text/plain": [
       "Open         0\n",
       "High         0\n",
       "Low          0\n",
       "Close        0\n",
       "Adj Close    0\n",
       "Volume       0\n",
       "dtype: int64"
      ]
     },
     "execution_count": 4,
     "metadata": {},
     "output_type": "execute_result"
    }
   ],
   "source": [
    "oro.info()\n",
    "oro.isna().sum()"
   ]
  },
  {
   "cell_type": "code",
   "execution_count": 5,
   "metadata": {},
   "outputs": [
    {
     "name": "stdout",
     "output_type": "stream",
     "text": [
      "<class 'pandas.core.frame.DataFrame'>\n",
      "DatetimeIndex: 3179 entries, 2010-01-04 to 2022-12-30\n",
      "Data columns (total 6 columns):\n",
      " #   Column     Non-Null Count  Dtype  \n",
      "---  ------     --------------  -----  \n",
      " 0   Open       3179 non-null   float64\n",
      " 1   High       3179 non-null   float64\n",
      " 2   Low        3179 non-null   float64\n",
      " 3   Close      3179 non-null   float64\n",
      " 4   Adj Close  3179 non-null   float64\n",
      " 5   Volume     3179 non-null   int64  \n",
      "dtypes: float64(5), int64(1)\n",
      "memory usage: 173.9 KB\n"
     ]
    },
    {
     "data": {
      "text/plain": [
       "Open         0\n",
       "High         0\n",
       "Low          0\n",
       "Close        0\n",
       "Adj Close    0\n",
       "Volume       0\n",
       "dtype: int64"
      ]
     },
     "execution_count": 5,
     "metadata": {},
     "output_type": "execute_result"
    }
   ],
   "source": [
    "nikkei.info()\n",
    "nikkei.isna().sum()"
   ]
  },
  {
   "cell_type": "code",
   "execution_count": 16,
   "metadata": {},
   "outputs": [
    {
     "data": {
      "text/html": [
       "<div>\n",
       "<style scoped>\n",
       "    .dataframe tbody tr th:only-of-type {\n",
       "        vertical-align: middle;\n",
       "    }\n",
       "\n",
       "    .dataframe tbody tr th {\n",
       "        vertical-align: top;\n",
       "    }\n",
       "\n",
       "    .dataframe thead th {\n",
       "        text-align: right;\n",
       "    }\n",
       "</style>\n",
       "<table border=\"1\" class=\"dataframe\">\n",
       "  <thead>\n",
       "    <tr style=\"text-align: right;\">\n",
       "      <th></th>\n",
       "      <th>Open</th>\n",
       "      <th>High</th>\n",
       "      <th>Low</th>\n",
       "      <th>Close</th>\n",
       "      <th>Adj Close</th>\n",
       "      <th>Volume</th>\n",
       "    </tr>\n",
       "    <tr>\n",
       "      <th>Date</th>\n",
       "      <th></th>\n",
       "      <th></th>\n",
       "      <th></th>\n",
       "      <th></th>\n",
       "      <th></th>\n",
       "      <th></th>\n",
       "    </tr>\n",
       "  </thead>\n",
       "  <tbody>\n",
       "    <tr>\n",
       "      <th>2010-01-04</th>\n",
       "      <td>1117.7</td>\n",
       "      <td>1122.3</td>\n",
       "      <td>1097.1</td>\n",
       "      <td>1117.7</td>\n",
       "      <td>1117.7</td>\n",
       "      <td>184</td>\n",
       "    </tr>\n",
       "    <tr>\n",
       "      <th>2010-01-05</th>\n",
       "      <td>1118.1</td>\n",
       "      <td>1126.5</td>\n",
       "      <td>1115.0</td>\n",
       "      <td>1118.1</td>\n",
       "      <td>1118.1</td>\n",
       "      <td>53</td>\n",
       "    </tr>\n",
       "    <tr>\n",
       "      <th>2010-01-06</th>\n",
       "      <td>1135.9</td>\n",
       "      <td>1139.2</td>\n",
       "      <td>1120.7</td>\n",
       "      <td>1135.9</td>\n",
       "      <td>1135.9</td>\n",
       "      <td>363</td>\n",
       "    </tr>\n",
       "    <tr>\n",
       "      <th>2010-01-07</th>\n",
       "      <td>1133.1</td>\n",
       "      <td>1133.1</td>\n",
       "      <td>1129.2</td>\n",
       "      <td>1133.1</td>\n",
       "      <td>1133.1</td>\n",
       "      <td>56</td>\n",
       "    </tr>\n",
       "    <tr>\n",
       "      <th>2010-01-08</th>\n",
       "      <td>1138.2</td>\n",
       "      <td>1138.2</td>\n",
       "      <td>1122.7</td>\n",
       "      <td>1138.2</td>\n",
       "      <td>1138.2</td>\n",
       "      <td>54</td>\n",
       "    </tr>\n",
       "  </tbody>\n",
       "</table>\n",
       "</div>"
      ],
      "text/plain": [
       "              Open    High     Low   Close  Adj Close  Volume\n",
       "Date                                                         \n",
       "2010-01-04  1117.7  1122.3  1097.1  1117.7     1117.7     184\n",
       "2010-01-05  1118.1  1126.5  1115.0  1118.1     1118.1      53\n",
       "2010-01-06  1135.9  1139.2  1120.7  1135.9     1135.9     363\n",
       "2010-01-07  1133.1  1133.1  1129.2  1133.1     1133.1      56\n",
       "2010-01-08  1138.2  1138.2  1122.7  1138.2     1138.2      54"
      ]
     },
     "execution_count": 16,
     "metadata": {},
     "output_type": "execute_result"
    }
   ],
   "source": [
    "oro.head()"
   ]
  },
  {
   "cell_type": "code",
   "execution_count": 19,
   "metadata": {},
   "outputs": [
    {
     "data": {
      "text/html": [
       "<div>\n",
       "<style scoped>\n",
       "    .dataframe tbody tr th:only-of-type {\n",
       "        vertical-align: middle;\n",
       "    }\n",
       "\n",
       "    .dataframe tbody tr th {\n",
       "        vertical-align: top;\n",
       "    }\n",
       "\n",
       "    .dataframe thead th {\n",
       "        text-align: right;\n",
       "    }\n",
       "</style>\n",
       "<table border=\"1\" class=\"dataframe\">\n",
       "  <thead>\n",
       "    <tr style=\"text-align: right;\">\n",
       "      <th></th>\n",
       "      <th>Open</th>\n",
       "      <th>High</th>\n",
       "      <th>Low</th>\n",
       "      <th>Close</th>\n",
       "      <th>Adj Close</th>\n",
       "      <th>Volume</th>\n",
       "    </tr>\n",
       "    <tr>\n",
       "      <th>Date</th>\n",
       "      <th></th>\n",
       "      <th></th>\n",
       "      <th></th>\n",
       "      <th></th>\n",
       "      <th></th>\n",
       "      <th></th>\n",
       "    </tr>\n",
       "  </thead>\n",
       "  <tbody>\n",
       "    <tr>\n",
       "      <th>2010-01-04</th>\n",
       "      <td>10609.34</td>\n",
       "      <td>10694.49</td>\n",
       "      <td>10608.14</td>\n",
       "      <td>10654.79</td>\n",
       "      <td>10654.79</td>\n",
       "      <td>104400000</td>\n",
       "    </tr>\n",
       "    <tr>\n",
       "      <th>2010-01-05</th>\n",
       "      <td>10719.44</td>\n",
       "      <td>10791.04</td>\n",
       "      <td>10655.57</td>\n",
       "      <td>10681.83</td>\n",
       "      <td>10681.83</td>\n",
       "      <td>166200000</td>\n",
       "    </tr>\n",
       "    <tr>\n",
       "      <th>2010-01-06</th>\n",
       "      <td>10709.55</td>\n",
       "      <td>10768.61</td>\n",
       "      <td>10661.17</td>\n",
       "      <td>10731.45</td>\n",
       "      <td>10731.45</td>\n",
       "      <td>181800000</td>\n",
       "    </tr>\n",
       "    <tr>\n",
       "      <th>2010-01-07</th>\n",
       "      <td>10742.75</td>\n",
       "      <td>10774.00</td>\n",
       "      <td>10636.67</td>\n",
       "      <td>10681.66</td>\n",
       "      <td>10681.66</td>\n",
       "      <td>182600000</td>\n",
       "    </tr>\n",
       "    <tr>\n",
       "      <th>2010-01-08</th>\n",
       "      <td>10743.30</td>\n",
       "      <td>10816.45</td>\n",
       "      <td>10677.56</td>\n",
       "      <td>10798.32</td>\n",
       "      <td>10798.32</td>\n",
       "      <td>211800000</td>\n",
       "    </tr>\n",
       "  </tbody>\n",
       "</table>\n",
       "</div>"
      ],
      "text/plain": [
       "                Open      High       Low     Close  Adj Close     Volume\n",
       "Date                                                                    \n",
       "2010-01-04  10609.34  10694.49  10608.14  10654.79   10654.79  104400000\n",
       "2010-01-05  10719.44  10791.04  10655.57  10681.83   10681.83  166200000\n",
       "2010-01-06  10709.55  10768.61  10661.17  10731.45   10731.45  181800000\n",
       "2010-01-07  10742.75  10774.00  10636.67  10681.66   10681.66  182600000\n",
       "2010-01-08  10743.30  10816.45  10677.56  10798.32   10798.32  211800000"
      ]
     },
     "execution_count": 19,
     "metadata": {},
     "output_type": "execute_result"
    }
   ],
   "source": [
    "nikkei.head()"
   ]
  },
  {
   "cell_type": "code",
   "execution_count": 15,
   "metadata": {},
   "outputs": [],
   "source": [
    "oro= oro.round(2)\n"
   ]
  },
  {
   "cell_type": "code",
   "execution_count": 18,
   "metadata": {},
   "outputs": [],
   "source": [
    "nikkei= nikkei.round(2)"
   ]
  },
  {
   "cell_type": "code",
   "execution_count": 20,
   "metadata": {},
   "outputs": [],
   "source": [
    "oro.to_csv(f'ORO.csv')"
   ]
  },
  {
   "cell_type": "code",
   "execution_count": 21,
   "metadata": {},
   "outputs": [],
   "source": [
    "nikkei.to_csv(f'Nikkei.csv')"
   ]
  }
 ],
 "metadata": {
  "kernelspec": {
   "display_name": "Python 3",
   "language": "python",
   "name": "python3"
  },
  "language_info": {
   "codemirror_mode": {
    "name": "ipython",
    "version": 3
   },
   "file_extension": ".py",
   "mimetype": "text/x-python",
   "name": "python",
   "nbconvert_exporter": "python",
   "pygments_lexer": "ipython3",
   "version": "3.10.8"
  },
  "orig_nbformat": 4,
  "vscode": {
   "interpreter": {
    "hash": "f2cee358119bf1b843ccdbada2342f4efdda6cf9a7669af1adf635a2fe1522cc"
   }
  }
 },
 "nbformat": 4,
 "nbformat_minor": 2
}
